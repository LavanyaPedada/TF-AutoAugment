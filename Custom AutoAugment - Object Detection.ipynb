{
 "cells": [
  {
   "cell_type": "markdown",
   "metadata": {},
   "source": [
    "# Custom Auto Augment for Object Detection\n",
    "\n",
    "Objective:\n",
    "* Create custom data augment policies for object detection\n",
    "* Apply transformation on image, plot and save \n",
    "\n",
    "\n",
    "Input:\n",
    "* Image to apply augmentations\n",
    "* Bounding Box Co-ordinates\n",
    "* Required fields: image_name, xmin, xmax, ymin, ymax, height, width, defect_type\n",
    "* BBox order should be  [ymin, xmin, ymax, xmax]\n",
    "\n",
    "\n",
    "Output:\n",
    "* Save augment image in the specified working directory\n",
    "\n",
    "When will this module be used?\n",
    "* This is used to plot and view various data augments on the image.\n"
   ]
  },
  {
   "cell_type": "code",
   "execution_count": null,
   "metadata": {},
   "outputs": [],
   "source": [
    "from auto_augment import autoaugment_utils_custom as aug\n",
    "import tensorflow as tf\n",
    "import numpy as np\n",
    "from PIL import Image\n",
    "import cv2\n",
    "import tensorflow as tf\n",
    "import numpy as np\n",
    "import pandas as pd\n",
    "from PIL import Image\n",
    "from matplotlib.pyplot import imshow\n",
    "from matplotlib import pyplot as plt\n",
    "%matplotlib inline"
   ]
  },
  {
   "cell_type": "markdown",
   "metadata": {},
   "source": [
    "### Read image and plot defects"
   ]
  },
  {
   "cell_type": "code",
   "execution_count": null,
   "metadata": {},
   "outputs": [],
   "source": [
    "# Read and view input image\n",
    "path = r'E:\\PoC_Work/'\n",
    "input_img = Image.open(path+\"14e90eb54.jpg\")\n",
    "input_img\n"
   ]
  },
  {
   "cell_type": "code",
   "execution_count": null,
   "metadata": {},
   "outputs": [],
   "source": [
    "# Read annotations \n",
    "df = pd.read_csv(\"AA_image_data.csv\")\n",
    "print(df.image_name.nunique())\n",
    "df.head()"
   ]
  },
  {
   "cell_type": "code",
   "execution_count": null,
   "metadata": {},
   "outputs": [],
   "source": [
    "# Plot annotations \n",
    "img_names = df.image_name.unique()\n",
    "input_path=r'E:\\PoC_Work/'\n",
    "#output_path=r'E:\\Parsytec\\App_audited\\plotted_img/'\n",
    "img_names = df.image_name.unique()\n",
    "for im in img_names:\n",
    "    img =cv2.imread(input_path+im)\n",
    "    df5 = df.loc[df['image_name']==im]\n",
    "    for index2, row2 in df5.iterrows():\n",
    "        cv2.rectangle(img, (row2['xmin'],row2['ymin']), (row2['xmax'],row2['ymax']), (0, 255, 0), 2)\n",
    "plt.figure(figsize = (30,15))\n",
    "plt.imshow(img)        "
   ]
  },
  {
   "cell_type": "markdown",
   "metadata": {},
   "source": [
    "### Create Custom Policies"
   ]
  },
  {
   "cell_type": "code",
   "execution_count": null,
   "metadata": {},
   "outputs": [],
   "source": [
    " custom_policy =   [[('Color', 0.0, 6), ('Cutout', 0.6, 8), ('Sharpness', 0.4, 8)], [('Sharpness', 0.4, 2)],\n",
    "     [('AutoContrast', 0.8, 2)], [('AutoContrast', 0.4, 6), ('ShearX_BBox', 0.8, 8), ('Brightness', 0.0, 10)],\n",
    "     [('SolarizeAdd', 0.2, 6), ('Contrast', 0.0, 10), ('AutoContrast', 0.6, 0)],\n",
    "     [('Cutout', 0.2, 0), ('Solarize', 0.8, 8), ('Color', 1.0, 4)],\n",
    "     [('TranslateY_BBox', 0.0, 4), ('Equalize', 0.6, 8), ('Solarize', 0.0, 10)], [('TranslateY_BBox', 0.2, 2)],\n",
    "     [('Cutout', 0.8, 8), ('Brightness', 0.8, 8), ('Cutout', 0.2, 2)], [('Color', 0.8, 4)],\n",
    "     [('BBox_Cutout', 1.0, 4), ('Cutout', 0.2, 8)], [('Equalize', 0.6, 6)],\n",
    "     [('AutoContrast', 0.4, 2), ('Brightness', 0.2, 2)],\n",
    "     [('Solarize', 0.4, 6), ('SolarizeAdd', 0.2, 10)],\n",
    "     [('SolarizeAdd', 0.2, 8), ('Equalize', 0.2, 4)]]"
   ]
  },
  {
   "cell_type": "markdown",
   "metadata": {},
   "source": [
    "### Apply Custom Policies"
   ]
  },
  {
   "cell_type": "code",
   "execution_count": null,
   "metadata": {},
   "outputs": [],
   "source": [
    "\n",
    "bboxes=[]\n",
    "for im in img_names:\n",
    "    img =cv2.imread(input_path+im)\n",
    "    df5 = df.loc[df['image_name']==im]\n",
    "    for index2, row2 in df5.iterrows(): # normalize\n",
    "        bboxes.append([row2['ymin']/row2['height'],row2['xmin']/row2['width'],\n",
    "                       row2['ymax']/row2['height'],row2['xmax']/row2['width']])\n",
    "\n",
    "\n",
    "# bboxes = [[ymin1,xmin1,ymax1,xmax1],[ymin2,xmin2,ymax2,xmax2]]\n",
    "\n",
    "# Convert image to tensor\n",
    "image_tensor = tf.convert_to_tensor(img)\n",
    "# Create array of bounding box co-ordinates\n",
    "data_np = np.asarray(bboxes, np.float32)\n",
    "# Convert bounding box list to tensor\n",
    "data_tf = tf.convert_to_tensor(data_np, np.float32)\n",
    "\n",
    "for i in range(len(custom_policy)):\n",
    "    if len(custom_policy[i]) > 1:\n",
    "        #print(\"in first->\",policy_v2[i])\n",
    "        for j in range(len(custom_policy[i])):\n",
    "            print(\"********** Applying Policy -->\",custom_policy[i][j])\n",
    "            image, res_bboxes = aug.distort_image_with_autoaugment(image_tensor, data_tf,'custom_v0',custom_policy[i][j])\n",
    "\n",
    "            sess = tf.Session()\n",
    "            with sess.as_default():\n",
    "                r_img = image.eval()\n",
    "\n",
    "            sess = tf.Session()\n",
    "            with sess.as_default():\n",
    "                aug_box = res_bboxes.eval()\n",
    "\n",
    "            cv2.rectangle(r_img, (int(aug_box[0][1]*width),int(aug_box[0][0]*height)), \n",
    "                          (int(aug_box[0][3]*width),int(aug_box[0][2]*height)), (0, 255, 0), 2)\n",
    "\n",
    "            cv2.rectangle(r_img, (int(aug_box[1][1]*width),int(aug_box[1][0]*height)), \n",
    "                          (int(aug_box[1][3]*width),int(aug_box[1][2]*height)), (0, 0, 255), 2)\n",
    "            plt.figure(figsize = (30,15))\n",
    "            cv2.imwrite(\"Kaggle_Custom_Policies\\custom_policy_v0/\"+str(custom_policy[i][j])+\".png\",r_img)\n",
    "            #plt.imshow(r_img)"
   ]
  }
 ],
 "metadata": {
  "kernelspec": {
   "display_name": "Python 3",
   "language": "python",
   "name": "python3"
  },
  "language_info": {
   "codemirror_mode": {
    "name": "ipython",
    "version": 3
   },
   "file_extension": ".py",
   "mimetype": "text/x-python",
   "name": "python",
   "nbconvert_exporter": "python",
   "pygments_lexer": "ipython3",
   "version": "3.7.3"
  }
 },
 "nbformat": 4,
 "nbformat_minor": 2
}
